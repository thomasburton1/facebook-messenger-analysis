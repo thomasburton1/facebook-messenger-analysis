{
 "cells": [
  {
   "cell_type": "code",
   "execution_count": 1,
   "id": "88df3857",
   "metadata": {},
   "outputs": [],
   "source": [
    "import os\n",
    "import json\n",
    "\n",
    "ROOTDIR = \"/Users/thomasburton/Desktop/facebook-messenger-analysis/Minority_Data/\""
   ]
  },
  {
   "cell_type": "code",
   "execution_count": 2,
   "id": "3731b92b",
   "metadata": {
    "scrolled": true
   },
   "outputs": [
    {
     "name": "stdout",
     "output_type": "stream",
     "text": [
      "['message_2.json', 'message_3.json', 'message_8.json', 'message_4.json', 'message_5.json', 'message_9.json', 'message_6.json', 'message_7.json', 'message_1.json']\n",
      "dict_keys(['participants', 'messages', 'title', 'is_still_participant', 'thread_type', 'thread_path', 'magic_words', 'image'])\n"
     ]
    }
   ],
   "source": [
    "# get all file names in directory\n",
    "files = os.listdir(ROOTDIR)\n",
    "\n",
    "# get all message file names\n",
    "message_files = []\n",
    "for file in files:\n",
    "    if 'message_' in file:\n",
    "        message_files.append(file)\n",
    "print(message_files)\n",
    "\n",
    "# taking a peek at what keys we have in the data\n",
    "file = open(ROOTDIR + \"message_3.json\")\n",
    "data = json.load(file)\n",
    "print(data.keys())"
   ]
  },
  {
   "cell_type": "code",
   "execution_count": 16,
   "id": "10bf02bc",
   "metadata": {},
   "outputs": [],
   "source": [
    "#data['magic_words']"
   ]
  },
  {
   "cell_type": "code",
   "execution_count": 17,
   "id": "0c18acb7",
   "metadata": {},
   "outputs": [],
   "source": [
    "#pip install emoji --upgrade"
   ]
  },
  {
   "cell_type": "code",
   "execution_count": 21,
   "id": "1d2a0357",
   "metadata": {},
   "outputs": [
    {
     "name": "stdout",
     "output_type": "stream",
     "text": [
      "🤣\n"
     ]
    }
   ],
   "source": [
    "#import emoji\n",
    "#print(emoji.emojize('â\\x9d¤'))\n",
    "print('ð\\x9f¤£'.encode('latin1').decode('utf8'))"
   ]
  },
  {
   "cell_type": "code",
   "execution_count": 32,
   "id": "49de02bc",
   "metadata": {},
   "outputs": [],
   "source": [
    "# get names of all participants in the chat\n",
    "participants = []\n",
    "\n",
    "for file in message_files:\n",
    "    file = open(ROOTDIR + file)\n",
    "    data = json.load(file)\n",
    "    people = data['participants']\n",
    "    for person in people:\n",
    "        if person['name'] not in participants:\n",
    "            participants.append(person['name'])\n",
    "    "
   ]
  },
  {
   "cell_type": "code",
   "execution_count": 33,
   "id": "b36eeca6",
   "metadata": {},
   "outputs": [
    {
     "data": {
      "text/plain": [
       "['Eli Russo',\n",
       " 'Thomas Burton',\n",
       " 'Michael Schmidt',\n",
       " 'Shaan Singh',\n",
       " 'Kevin Huang',\n",
       " 'Mathew Antony',\n",
       " 'Dylan Priest']"
      ]
     },
     "execution_count": 33,
     "metadata": {},
     "output_type": "execute_result"
    }
   ],
   "source": [
    "participants"
   ]
  },
  {
   "cell_type": "code",
   "execution_count": null,
   "id": "b3b00eaa",
   "metadata": {},
   "outputs": [],
   "source": [
    "import pandas as pd\n",
    "\n",
    "messages = pd.DataFrame(data['messages'])"
   ]
  }
 ],
 "metadata": {
  "kernelspec": {
   "display_name": "Python 3 (ipykernel)",
   "language": "python",
   "name": "python3"
  },
  "language_info": {
   "codemirror_mode": {
    "name": "ipython",
    "version": 3
   },
   "file_extension": ".py",
   "mimetype": "text/x-python",
   "name": "python",
   "nbconvert_exporter": "python",
   "pygments_lexer": "ipython3",
   "version": "3.9.7"
  }
 },
 "nbformat": 4,
 "nbformat_minor": 5
}
