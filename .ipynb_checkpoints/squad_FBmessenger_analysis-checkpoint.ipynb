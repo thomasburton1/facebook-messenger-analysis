{
 "cells": [
  {
   "cell_type": "code",
   "execution_count": 4,
   "metadata": {
    "executionInfo": {
     "elapsed": 162,
     "status": "ok",
     "timestamp": 1645744767735,
     "user": {
      "displayName": "Thomas Burton",
      "photoUrl": "https://lh3.googleusercontent.com/a/default-user=s64",
      "userId": "08592337743431367498"
     },
     "user_tz": 420
    },
    "id": "PUVWZgtgqb8X"
   },
   "outputs": [],
   "source": [
    "import os\n",
    "import json"
   ]
  },
  {
   "cell_type": "code",
   "execution_count": 5,
   "metadata": {
    "colab": {
     "base_uri": "https://localhost:8080/",
     "height": 105
    },
    "executionInfo": {
     "elapsed": 7,
     "status": "ok",
     "timestamp": 1645744768476,
     "user": {
      "displayName": "Thomas Burton",
      "photoUrl": "https://lh3.googleusercontent.com/a/default-user=s64",
      "userId": "08592337743431367498"
     },
     "user_tz": 420
    },
    "id": "6SvEh10m-QBj",
    "outputId": "bc994768-592c-4119-eacb-60e11c4c645d"
   },
   "outputs": [
    {
     "data": {
      "application/vnd.google.colaboratory.intrinsic+json": {
       "type": "string"
      },
      "text/plain": [
       "'\\n# Summary\\nprint(\"Kelea\\'s FB Messenger Summary\")\\nprint(\"----------------------------\")\\nprint(\"Words Ranked:\")\\n\\nfor index, word in enumerate(words_sorted, 1):\\n  if index == 51:\\n    break;\\n  print(str(index), \"|\", word, \"|\", words_sorted[word][\"frequency\"])\\n\\n\\n# Write all this summary stuff to a text file\\n'"
      ]
     },
     "execution_count": 5,
     "metadata": {},
     "output_type": "execute_result"
    }
   ],
   "source": [
    "\n",
    "\n",
    "# read in words to ignore\n",
    "\n",
    "'''\n",
    "{\n",
    "  \"hello\": {\n",
    "    \"frequency\": 10\n",
    "  }\n",
    "}\n",
    "'''\n",
    "\n",
    "\n",
    "\n",
    "#files = os.listdir(rootdir)\n",
    "'''\n",
    "for fileName in files:\n",
    "  f = open(rootdir + \"/\" + fileName)\n",
    "  data = json.load(f)\n",
    "  messages = data['messages']\n",
    "  for message in messages:\n",
    "'''\n",
    "\n",
    "'''\n",
    "for folder in folders:\n",
    "  f = open(rootdir + \"/\" + folder + \"/\" + \"message_1.json\")\n",
    "  data = json.load(f)\n",
    "  messages = data['messages']\n",
    "  for message in messages:\n",
    "    if \"content\" in message and message[\"sender_name\"] == \"Kay Paula\":\n",
    "      content = message[\"content\"]\n",
    "      words = content.split()\n",
    "      for word in words:\n",
    "        if word not in keleas_favorite_words and word not in ignoreWords:\n",
    "          keleas_favorite_words[word] = {\"frequency\": 1}\n",
    "        else:\n",
    "          if word not in ignoreWords:\n",
    "            keleas_favorite_words[word][\"frequency\"] += 1\n",
    "\n",
    "words_sorted = dict( sorted(keleas_favorite_words.items(),\n",
    "                           key=lambda item: item[1][\"frequency\"],\n",
    "                           reverse=True))\n",
    "\n",
    "'''\n",
    "'''\n",
    "# Summary\n",
    "print(\"Kelea's FB Messenger Summary\")\n",
    "print(\"----------------------------\")\n",
    "print(\"Words Ranked:\")\n",
    "\n",
    "for index, word in enumerate(words_sorted, 1):\n",
    "  if index == 51:\n",
    "    break;\n",
    "  print(str(index), \"|\", word, \"|\", words_sorted[word][\"frequency\"])\n",
    "\n",
    "\n",
    "# Write all this summary stuff to a text file\n",
    "'''\n"
   ]
  },
  {
   "cell_type": "code",
   "execution_count": 92,
   "metadata": {
    "executionInfo": {
     "elapsed": 1168,
     "status": "ok",
     "timestamp": 1645753033544,
     "user": {
      "displayName": "Thomas Burton",
      "photoUrl": "https://lh3.googleusercontent.com/a/default-user=s64",
      "userId": "08592337743431367498"
     },
     "user_tz": 420
    },
    "id": "7TohBeFJDZ1A"
   },
   "outputs": [],
   "source": [
    "# Classes\n",
    "class Squad():\n",
    "  def __init__(self, people):\n",
    "    self.totalMessages = 0\n",
    "    self.people = people\n",
    "    self.awards = {\n",
    "        # do top 3 for each contest\n",
    "        \"Dirtiest Mouth\": {},\n",
    "        \"Laugh Attack\": {},\n",
    "        \"Most Squad\": {},\n",
    "        \"Horniest\": {},\n",
    "        \"Carries The Chat\": {},\n",
    "        \"Negative Nelly\": {},\n",
    "        \"Yes Man\": {},\n",
    "        \"Most Obsessed With Eli\": {}\n",
    "\n",
    "          # - Dirtiest Mouth\n",
    "          # - Laugh Attack Award - LOL, haha, uses laughing emoji's the most\n",
    "          # - Most Squad -> highest frequency of squad isms\n",
    "          # - Horniest in squad -> uses sex related language the most\n",
    "          # - Carries the chat - most active -> has sent the most total messages\n",
    "          # - Negative nelly -> uses the most negative vocabulary\n",
    "          # - Yes man award -> uses the most positive vocabulary, always down for a good time\n",
    "          # - most obsessed with eli -> says eli's name the most\n",
    "          # - Reacts to the most messages\n",
    "          # - gets the most reactions from others to their messages\n",
    "    }\n",
    "\n",
    "  def calculateContestWinners(self):\n",
    "\n",
    "    for contest in self.awards:\n",
    "      for person in self.people:\n",
    "        score = 0\n",
    "        if contest == \"Dirtiest Mouth\":\n",
    "          score = person.dirtyMouth\n",
    "        elif contest == \"Laugh Attack\":\n",
    "          score = person.laughAttack\n",
    "        elif contest == \"Most Squad\":\n",
    "          score = person.mostSquad\n",
    "        elif contest == \"Horniest\":\n",
    "          score = person.horniest\n",
    "        elif contest == \"Carries The Chat\":\n",
    "          score = person.totalMessagesSent\n",
    "        elif contest == \"Negative Nelly\":\n",
    "          score = person.negativeNelly\n",
    "        elif contest == \"Yes Man\":\n",
    "          score = person.yesMan\n",
    "        elif contest == \"Most Obsessed With Eli\":\n",
    "          score = person.eliMentions\n",
    "\n",
    "        self.awards[contest][person.name] = score\n",
    "    \n",
    "      #sort descending to determine winners\n",
    "      self.awards[contest] = dict( sorted(self.awards[contest].items(),\n",
    "                            key=lambda item: item[1],\n",
    "                            reverse=True))\n",
    "\n",
    "  def addPerson(self, name):\n",
    "    p = Person(name)\n",
    "    self.people.append(p)\n",
    "\n",
    "  def getPerson(self, name):\n",
    "    for person in self.people:\n",
    "      if person.name == name:\n",
    "        return person\n",
    "\n",
    "  def summarize(self):\n",
    "    rootdir = \"/content/drive/MyDrive/Colab Notebooks/\"\n",
    "    f = open(rootdir + \"results.txt\", \"w\")\n",
    "\n",
    "    f.write(\"Squad Summary:\\n\")\n",
    "    f.write(\"-------------\\n\")\n",
    "    f.write(\"Total Messages: \" + str(self.totalMessages) + \"\\n\")\n",
    "    f.write(\"--------------\\n\")\n",
    "    f.write(\"\\n\")\n",
    "    f.write(\"Contest Winners:\\n\")\n",
    "    f.write(\"---------------\\n\")\n",
    "    \n",
    "    for contest in self.awards:\n",
    "      f.write(contest + \": \\n\")\n",
    "      l = []\n",
    "      for index, person in enumerate(self.awards[contest], 0):\n",
    "        if index == 3:\n",
    "          break\n",
    "        l.append({person: self.awards[contest][person]})\n",
    "      f.write(str(l))\n",
    "      f.write(\"\\n\")\n",
    "    f.write(\"\\n\")\n",
    "    f.write(\"Individual Summaries:\\n\")\n",
    "    f.write(\"--------------------\\n\")\n",
    "    for person in self.people:\n",
    "      person.printSummary(f)\n",
    "\n",
    "    f.close()\n",
    "\n",
    "class Person():\n",
    "  # Fields\n",
    "  # ------\n",
    "  # name: str - person's name\n",
    "  # words: {} - every unique word used, sorted by frequency (descending), keeps track of the word itself and frequency of use\n",
    "  def __init__(self, name):\n",
    "    self.name = name\n",
    "    self.uniqueWords = {}\n",
    "    self.totalMessagesSent = 0\n",
    "    self.totalUniqueWords = 0\n",
    "    self.totalWords = 0\n",
    "    self.dirtyMouth = 0\n",
    "    self.laughAttack = 0\n",
    "    self.mostSquad = 0\n",
    "    self.horniest = 0\n",
    "    self.negativeNelly = 0\n",
    "    self.yesMan = 0\n",
    "    self.eliMentions = 0\n",
    "\n",
    "  def sortByFrequency(self):\n",
    "    self.uniqueWords = dict( sorted(self.uniqueWords.items(),\n",
    "                           key=lambda item: item[1][\"frequency\"],\n",
    "                           reverse=True))\n",
    "  \n",
    "  def printSummary(self, f):\n",
    "    f.write(\"Name: \" + self.name + \"\\n\")\n",
    "    f.write(\"Total Messages Sent: \" + str(self.totalMessagesSent) + \"\\n\")\n",
    "    f.write(\"Total Unique Words: \" + str(self.totalUniqueWords) + \"\\n\")\n",
    "    f.write(\"Total Words: \" + str(self.totalWords) + \"\\n\")\n",
    "    self.sortByFrequency()\n",
    "    for index, word in enumerate(self.uniqueWords, 1):\n",
    "      if index == 26:\n",
    "        break;\n",
    "      f.write(str(index) + \" | \" + word + \" | \" + str(self.uniqueWords[word][\"frequency\"]) + \"\\n\")\n",
    "    f.write(\"\\n\")\n",
    "\n",
    "  \n",
    "\n",
    "\n",
    "\n",
    "\n"
   ]
  },
  {
   "cell_type": "code",
   "execution_count": 93,
   "metadata": {
    "colab": {
     "base_uri": "https://localhost:8080/"
    },
    "executionInfo": {
     "elapsed": 6,
     "status": "ok",
     "timestamp": 1645753034942,
     "user": {
      "displayName": "Thomas Burton",
      "photoUrl": "https://lh3.googleusercontent.com/a/default-user=s64",
      "userId": "08592337743431367498"
     },
     "user_tz": 420
    },
    "id": "8tCxG3kwDahz",
    "outputId": "a1d50d46-d2e0-442e-ed98-67b385910dbb"
   },
   "outputs": [
    {
     "name": "stdout",
     "output_type": "stream",
     "text": [
      "['Mohr Tzur', 'Eli Russo', 'Thomas Burton', 'Shaan Singh', 'Kevin Huang', 'Mathew Antony', 'Dylan Priest', 'Tristan Mathew']\n"
     ]
    }
   ],
   "source": [
    "# ROOT DIRECTORY PATH\n",
    "rootdir = \"/content/drive/MyDrive/Colab Notebooks/BAWS_data/\"\n",
    "\n",
    "# read in convo participant names\n",
    "read_participants_file = \"message_1.json\"\n",
    "f = open(rootdir + read_participants_file)\n",
    "d = json.load(f)\n",
    "participantsDict = d['participants']\n",
    "participants = []\n",
    "for participant in participantsDict:\n",
    "  participants.append(participant['name'])\n",
    "print(participants)"
   ]
  },
  {
   "cell_type": "code",
   "execution_count": 94,
   "metadata": {
    "executionInfo": {
     "elapsed": 11,
     "status": "ok",
     "timestamp": 1645753036472,
     "user": {
      "displayName": "Thomas Burton",
      "photoUrl": "https://lh3.googleusercontent.com/a/default-user=s64",
      "userId": "08592337743431367498"
     },
     "user_tz": 420
    },
    "id": "KMMlf-M5DeKh"
   },
   "outputs": [],
   "source": [
    "# create Person objects for each person in the conversation and store them in an array for later use\n",
    "people = []\n",
    "for name in participants:\n",
    "  people.append(Person(name))\n",
    "\n",
    "# create Squad object to keep track of squad metrics\n",
    "squad = Squad(people)"
   ]
  },
  {
   "cell_type": "code",
   "execution_count": 95,
   "metadata": {
    "colab": {
     "base_uri": "https://localhost:8080/"
    },
    "executionInfo": {
     "elapsed": 12,
     "status": "ok",
     "timestamp": 1645753036474,
     "user": {
      "displayName": "Thomas Burton",
      "photoUrl": "https://lh3.googleusercontent.com/a/default-user=s64",
      "userId": "08592337743431367498"
     },
     "user_tz": 420
    },
    "id": "0elpuU-iEJkV",
    "outputId": "7c4a4624-2bce-4a20-f1d7-c4656946cd5b"
   },
   "outputs": [
    {
     "name": "stdout",
     "output_type": "stream",
     "text": [
      "['message_14.json', 'message_13.json', 'message_1.json', 'message_3.json', 'message_8.json', 'message_10.json', 'message_19.json', 'message_11.json', 'message_18.json', 'message_15.json', 'message_17.json', 'message_9.json', 'message_16.json', 'message_21.json', 'message_4.json', 'message_6.json', 'message_2.json', 'message_20.json', 'message_5.json', 'message_12.json', 'message_7.json']\n"
     ]
    }
   ],
   "source": [
    "# get all names of the files we want to read through\n",
    "files = os.listdir(rootdir)\n",
    "print(files)"
   ]
  },
  {
   "cell_type": "code",
   "execution_count": 96,
   "metadata": {
    "executionInfo": {
     "elapsed": 28,
     "status": "ok",
     "timestamp": 1645753036677,
     "user": {
      "displayName": "Thomas Burton",
      "photoUrl": "https://lh3.googleusercontent.com/a/default-user=s64",
      "userId": "08592337743431367498"
     },
     "user_tz": 420
    },
    "id": "CPcRc5s-qdfg"
   },
   "outputs": [],
   "source": [
    "# read in the most common words that we want to ignore in our analysis\n",
    "ignoreWordsPath = \"./drive/MyDrive/Colab Notebooks/ignoreWords.txt\"\n",
    "\n",
    "my_file = open(ignoreWordsPath, \"r\")\n",
    "content = my_file.read()\n",
    "ignoreWords = content.split(\"\\n\")\n"
   ]
  },
  {
   "cell_type": "code",
   "execution_count": 97,
   "metadata": {
    "executionInfo": {
     "elapsed": 129,
     "status": "ok",
     "timestamp": 1645753037961,
     "user": {
      "displayName": "Thomas Burton",
      "photoUrl": "https://lh3.googleusercontent.com/a/default-user=s64",
      "userId": "08592337743431367498"
     },
     "user_tz": 420
    },
    "id": "i1kmmn3evYCV"
   },
   "outputs": [],
   "source": [
    "# categories to keep track of\n",
    "  # - Dirtiest Mouth\n",
    "  # - Laugh Attack Award - LOL, haha, uses laughing emoji's the most\n",
    "  # - Most Squad -> highest frequency of squad isms\n",
    "  # - Horniest in squad -> uses sex related language the most\n",
    "  # - Carries the chat - most active -> has sent the most total messages\n",
    "  # - Negative nelly -> uses the most negative vocabulary\n",
    "  # - Yes man award -> uses the most positive vocabulary, always down for a good time\n",
    "  # - most obsessed with eli -> says eli's name the most\n",
    "  # - Reacts to the most messages\n",
    "  # - gets the most reactions from others to their messages\n",
    "\n",
    "#DIRTIEST MOUTH AWARD\n",
    "swear_words = [\"fuck\", \"shit\", \"ass\", \"bitch\", \"bullshit\", \"cunt\", \"hoe\", \"whore\", \"wench\", \"asshole\", \"motherfucker\", \"wtf\", \"hell\"]\n",
    "\n",
    "#LAUGH ATTACK\n",
    "laugh_attack = [\"ha\", \"haha\", \"hahaha\", \"lol\", \"lmao\", \"funny\"]\n",
    "\n",
    "#MOST SQUAD\n",
    "isms = [\"grayte\", \"YFH\", \"abahd\", \"ed\", \"freaging\", \"eloosh\", \"cry\", \"abahd\", \"ed\"]\n",
    "\n",
    "#HORNIEST\n",
    "horny = [\"sex\", \"sexy\", \"hot\", \"naked\", \"nayged\", \"beautiful\", \"make\", \"love\", \"her\", \"she\", \"woman\", \"nut\", \"porn\", \"pornstar\", \"hard\", \"wet\", \"horny\", \"ass\", \"tits\", \"boobs\", \"breasts\"]\n",
    "\n",
    "#NEGATIVE NELLY\n",
    "negative = [\"no\", \"not\", \"doubt\", \"lie\", \"liar\", \"stop\", \"fail\", \"bad\", \"dont\", \"idiot\", \"stupid\", \"lose\", \"lost\", \"loser\", \"cry\"]\n",
    "\n",
    "#YES MAN\n",
    "positive = [\"yes\", \"absolutely\", \"agree\", \"agreed\", \"ok\", \"glad\", \"definitely\", \"good\", \"positive\", \"well\", \"certain\", \"sure\", \"down\"]\n",
    "\n",
    "#Who are you most obsessed with?\n",
    "squad_names = [\"thomas\", \"dylan\", \"kevin\", \"shaan\", \"mathew\", \"tristan\", \"eli\", \"mohr\"]\n",
    "\n"
   ]
  },
  {
   "cell_type": "code",
   "execution_count": 98,
   "metadata": {
    "executionInfo": {
     "elapsed": 4708,
     "status": "ok",
     "timestamp": 1645753043640,
     "user": {
      "displayName": "Thomas Burton",
      "photoUrl": "https://lh3.googleusercontent.com/a/default-user=s64",
      "userId": "08592337743431367498"
     },
     "user_tz": 420
    },
    "id": "uS54AW_fEnFZ"
   },
   "outputs": [],
   "source": [
    "# for each file of messages (JSON format) we want to read through all the messages\n",
    "for fileName in files:\n",
    "  f = open(rootdir + \"/\" + fileName)\n",
    "  data = json.load(f)\n",
    "  messages = data['messages']\n",
    "  for message in messages:\n",
    "    senderName = message['sender_name']\n",
    "    if senderName not in participants:\n",
    "      continue\n",
    "    person = squad.getPerson(senderName)\n",
    "    person.totalMessagesSent += 1\n",
    "    squad.totalMessages += 1\n",
    "    if 'content' in message:\n",
    "      content = message['content'].lower()\n",
    "      words = content.split()\n",
    "      num_words = len(words)\n",
    "      person.totalWords += num_words\n",
    "      for word in words:\n",
    "        if word not in person.uniqueWords and word not in ignoreWords and len(word) > 1 and word.isalpha():\n",
    "          person.totalUniqueWords += 1\n",
    "          person.uniqueWords[word] = {'frequency': 1}\n",
    "        else:\n",
    "          if word in person.uniqueWords:\n",
    "            person.uniqueWords[word]['frequency'] += 1\n",
    "\n",
    "        if word in swear_words:\n",
    "          person.dirtyMouth += 1\n",
    "        if word in laugh_attack:\n",
    "          person.laughAttack += 1\n",
    "        if word in isms:\n",
    "          person.mostSquad += 1\n",
    "        if word in horny:\n",
    "          person.horniest += 1\n",
    "        if word in negative:\n",
    "          person.negativeNelly += 1\n",
    "        if word in positive:\n",
    "          person.yesMan += 1\n",
    "        if word == \"eli\":\n",
    "          person.eliMentions += 1\n",
    "\n",
    "squad.calculateContestWinners()  \n",
    "squad.summarize()\n",
    "\n",
    "\n"
   ]
  },
  {
   "cell_type": "code",
   "execution_count": 68,
   "metadata": {
    "executionInfo": {
     "elapsed": 3,
     "status": "ok",
     "timestamp": 1645745339861,
     "user": {
      "displayName": "Thomas Burton",
      "photoUrl": "https://lh3.googleusercontent.com/a/default-user=s64",
      "userId": "08592337743431367498"
     },
     "user_tz": 420
    },
    "id": "pg02adlJd7U-"
   },
   "outputs": [],
   "source": []
  }
 ],
 "metadata": {
  "colab": {
   "authorship_tag": "ABX9TyNxYNAG5jTwHGnA9nfaKY16",
   "collapsed_sections": [],
   "mount_file_id": "15tVUCCq1e6La5YJh41MMhtDIVXILLxWz",
   "name": "squad_FBmessenger_analysis.ipynb",
   "provenance": []
  },
  "kernelspec": {
   "display_name": "Python 3 (ipykernel)",
   "language": "python",
   "name": "python3"
  },
  "language_info": {
   "codemirror_mode": {
    "name": "ipython",
    "version": 3
   },
   "file_extension": ".py",
   "mimetype": "text/x-python",
   "name": "python",
   "nbconvert_exporter": "python",
   "pygments_lexer": "ipython3",
   "version": "3.9.7"
  }
 },
 "nbformat": 4,
 "nbformat_minor": 1
}
